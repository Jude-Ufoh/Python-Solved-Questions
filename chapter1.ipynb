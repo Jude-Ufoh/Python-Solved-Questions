{
 "cells": [
  {
   "cell_type": "markdown",
   "id": "55f4b6d7",
   "metadata": {},
   "source": [
    "Question 1\n",
    "Print a box like the one below\n",
    "*******************\n",
    "*******************\n",
    "*******************\n",
    "*******************"
   ]
  },
  {
   "cell_type": "code",
   "execution_count": 10,
   "id": "1437daa2",
   "metadata": {},
   "outputs": [
    {
     "name": "stdout",
     "output_type": "stream",
     "text": [
      "*******************\n",
      "*******************\n",
      "*******************\n",
      "*******************\n"
     ]
    }
   ],
   "source": [
    "for i in range(4):\n",
    "    print('*'*19)"
   ]
  },
  {
   "cell_type": "markdown",
   "id": "4f50a1b5",
   "metadata": {},
   "source": [
    "Question 2\n",
    "print a box like the one below\n",
    "*******************\n",
    "*                 *\n",
    "*                 *\n",
    "*******************"
   ]
  },
  {
   "cell_type": "code",
   "execution_count": 15,
   "id": "3b91918e",
   "metadata": {},
   "outputs": [
    {
     "name": "stdout",
     "output_type": "stream",
     "text": [
      "*******************\n",
      "*                 *\n",
      "*                 *\n",
      "*******************\n"
     ]
    }
   ],
   "source": [
    " print('*'*19)\n",
    " print('*',' '*15,'*')\n",
    " print('*',' '*15,'*')\n",
    " print('*'*19)"
   ]
  },
  {
   "cell_type": "markdown",
   "id": "2efb2c9b",
   "metadata": {},
   "source": [
    "Quest 3\n",
    "Print a triangle like the one below\n",
    "*\n",
    "**\n",
    "***\n",
    "****"
   ]
  },
  {
   "cell_type": "code",
   "execution_count": 20,
   "id": "7a365db9",
   "metadata": {},
   "outputs": [
    {
     "name": "stdout",
     "output_type": "stream",
     "text": [
      "*\n",
      "**\n",
      "***\n",
      "****\n"
     ]
    }
   ],
   "source": [
    "for i in range(4):\n",
    "    print('*'*(i+1))"
   ]
  },
  {
   "cell_type": "markdown",
   "id": "8737d20b",
   "metadata": {},
   "source": [
    "Quest 4\n",
    "Write a program that computes and prints the result of 512 − 282\n",
    "47 · 48 + 5\n"
   ]
  },
  {
   "cell_type": "code",
   "execution_count": 21,
   "id": "2ac2e340",
   "metadata": {},
   "outputs": [
    {
     "name": "stdout",
     "output_type": "stream",
     "text": [
      "4.382621951219512\n"
     ]
    }
   ],
   "source": [
    "result= (512-282)/(47.48+5)\n",
    "print(result)"
   ]
  },
  {
   "cell_type": "markdown",
   "id": "7ba61310",
   "metadata": {},
   "source": [
    "Question 5\n",
    "#Ask the user to enter a number. Print out the square of the number, but use the sep optional argument to print it out in a full sentence that ends in a period. Sample output is shown below."
   ]
  },
  {
   "cell_type": "code",
   "execution_count": null,
   "id": "735c7543",
   "metadata": {
    "scrolled": true
   },
   "outputs": [],
   "source": [
    "num =eval(input('please enter a number:'))\n",
    "print('You entered ',num,' the square of ',num,' is ', num**2, sep ='' )"
   ]
  },
  {
   "cell_type": "markdown",
   "id": "bd322f63",
   "metadata": {},
   "source": [
    "Quest 6\n",
    "Ask the user to enter a number x. Use the sep optional argument to print out x, 2x, 3x, 4x,and 5x, each separated by three dashes,"
   ]
  },
  {
   "cell_type": "code",
   "execution_count": null,
   "id": "5a13edcb",
   "metadata": {},
   "outputs": [],
   "source": [
    "num =eval(input('please enter a number:'))\n",
    "#for i in range(5):\n",
    "#   print(num*(i+1),end='---', sep=',')\n",
    "print(num*1,num*2,num*3,num*4,num*5, sep='---')"
   ]
  },
  {
   "cell_type": "markdown",
   "id": "3efacda6",
   "metadata": {},
   "source": [
    "Quest 7\n",
    "Write a program that asks the user for a weight in kilograms and converts it to pounds. There are 2.2 pounds in a kilogram"
   ]
  },
  {
   "cell_type": "code",
   "execution_count": 3,
   "id": "e6d49cb6",
   "metadata": {},
   "outputs": [
    {
     "name": "stdout",
     "output_type": "stream",
     "text": [
      "Input the weight in KG4\n",
      "this is eequivalent to  8.8 pounds\n"
     ]
    }
   ],
   "source": [
    "kg=eval(input('Input the weight in KG'))\n",
    "pound=kg*2.2\n",
    "print('this is eequivalent to ',pound, \"pounds\")"
   ]
  },
  {
   "cell_type": "markdown",
   "id": "6a6bfd5b",
   "metadata": {},
   "source": [
    "Quest 8\n",
    "Write a program that asks the user to enter three numbers (use three separate input statements). Create variables called total and average that hold the sum and average of the three numbers and print out the values of total and average."
   ]
  },
  {
   "cell_type": "code",
   "execution_count": 5,
   "id": "6c79b3aa",
   "metadata": {},
   "outputs": [
    {
     "name": "stdout",
     "output_type": "stream",
     "text": [
      "please enter a number:4\n",
      "please enter a number:8\n",
      "please enter a number:9\n",
      "21\n",
      "7.0\n"
     ]
    }
   ],
   "source": [
    "num1 =eval(input('please enter a number:'))\n",
    "num2 =eval(input('please enter a number:'))\n",
    "num3 =eval(input('please enter a number:'))\n",
    "total = num1+num2+num3\n",
    "average=total/3\n",
    "print(total)\n",
    "print(average)"
   ]
  },
  {
   "cell_type": "markdown",
   "id": "190c885c",
   "metadata": {},
   "source": [
    "Quest 9\n",
    "A lot of cell phones have tip calculators. Write one. Ask the user for the price of the meal and the percent tip they want to leave. Then print both the tip amount and the total bill with the tip included."
   ]
  },
  {
   "cell_type": "code",
   "execution_count": 6,
   "id": "820e83d2",
   "metadata": {},
   "outputs": [
    {
     "name": "stdout",
     "output_type": "stream",
     "text": [
      "Please enter meal price: 60\n",
      "Please enter percentage tip: 5\n",
      "63.0\n",
      "3.0\n"
     ]
    }
   ],
   "source": [
    "meal_price=eval(input('Please enter meal price: '))\n",
    "tip_percent = eval(input('Please enter percentage tip: '))\n",
    "tip=meal_price*(tip_percent/100)\n",
    "total_bill= meal_price+tip\n",
    "print(total_bill)\n",
    "print(tip)"
   ]
  },
  {
   "cell_type": "code",
   "execution_count": null,
   "id": "c77499be",
   "metadata": {},
   "outputs": [],
   "source": []
  }
 ],
 "metadata": {
  "kernelspec": {
   "display_name": "Python 3",
   "language": "python",
   "name": "python3"
  },
  "language_info": {
   "codemirror_mode": {
    "name": "ipython",
    "version": 3
   },
   "file_extension": ".py",
   "mimetype": "text/x-python",
   "name": "python",
   "nbconvert_exporter": "python",
   "pygments_lexer": "ipython3",
   "version": "3.8.8"
  }
 },
 "nbformat": 4,
 "nbformat_minor": 5
}
