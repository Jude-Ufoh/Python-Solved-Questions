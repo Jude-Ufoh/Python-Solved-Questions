{
 "cells": [
  {
   "cell_type": "markdown",
   "id": "20d04758",
   "metadata": {},
   "source": [
    "Question 1 \n",
    "Write a function called first_diff that is given two strings and returns the first location in\n",
    "which the strings differ. If the strings are identical, it should return -1."
   ]
  },
  {
   "cell_type": "code",
   "execution_count": null,
   "id": "3b3ad981",
   "metadata": {},
   "outputs": [],
   "source": [
    "#Answer 1\n",
    "def first_diff():\n",
    "    str1= input('enter first string: ')\n",
    "    str2= input('enter second string: ')\n",
    "    str1 =list(str1)\n",
    "    str2 =list(str2)\n",
    "    str3 = []\n",
    "    for c in str1:\n",
    "\n",
    "        if c != str2[str1.index(c)]:\n",
    "            str3.append(str1.index(c))\n",
    "    if len(str3)>0:\n",
    "        return str3[0]\n",
    "    else:\n",
    "        return -1\n",
    "print(first_diff())"
   ]
  },
  {
   "cell_type": "markdown",
   "id": "5b9bf979",
   "metadata": {},
   "source": [
    "Question 2\n",
    "Recall that if s is a string, then s.find('a') will find the location of the first a in s. The\n",
    "problem is that it does not find the location of every a. Write a function called findall that\n",
    "given a string and a single character, returns a list containing all of the locations of that character in the string. It should return an empty list if there are no occurrences of the character\n",
    "in the string"
   ]
  },
  {
   "cell_type": "code",
   "execution_count": 1,
   "id": "1400a9aa",
   "metadata": {},
   "outputs": [],
   "source": [
    "#Answer 2\n",
    "def findall(char,alphabet):\n",
    "    char =list(char)\n",
    "    L = []\n",
    "    for c in char:\n",
    "        if c==alphabet:\n",
    "            L.append(char.index(c)+1)\n",
    "            char[char.index(c)]=' '\n",
    "    print(char)\n",
    "    return L"
   ]
  },
  {
   "cell_type": "markdown",
   "id": "da0bd516",
   "metadata": {},
   "source": [
    "Question 3\n",
    "Write a function called change_case that given a string, returns a string with each upper\n",
    "case letter replaced by a lower case letter and vice-versa"
   ]
  },
  {
   "cell_type": "code",
   "execution_count": 5,
   "id": "7c50c3f1",
   "metadata": {},
   "outputs": [],
   "source": [
    "# Answer 3\n",
    "def change_case(char):\n",
    "    char2 =[]\n",
    "    char = list(char)\n",
    "    for c in char:\n",
    "        if c.islower()==True:\n",
    "           char2.append(c.upper())\n",
    "        elif c.isupper()==True:\n",
    "            char2.append(c.lower())\n",
    "    return ''.join(char2)\n",
    "print(change_case('jUDE'))"
   ]
  },
  {
   "cell_type": "markdown",
   "id": "6d89d973",
   "metadata": {},
   "source": [
    "Question 4\n",
    ". Our number system is called base 10 because we have ten digits: 0, 1, . . . , 9. Some cultures,\n",
    "including the Mayans and Celts, used a base 20 system. In one version of this system, the 20\n",
    "digits are represented by the letters A through T. Here is a table showing a few conversions:\n",
    "10   20  10 20   10 20   10  20\n",
    "0    A    8 I    16 Q    39  BT\n",
    "1    B    9 J    17 R    40  CA\n",
    "2    C   10 K    18 S    41  CB\n",
    "3    D   11 L    19 T    60  DA\n",
    "4    E   12 M    20 BA   399 TT\n",
    "5    F   13 N    21 BB   400 BAA\n",
    "6    G   14 O    22 BC   401 BAB\n",
    "7    H   15 P    23 BD   402 BAC\n",
    "Write a function called base20 that converts a base 10 number to base 20. It should return\n",
    "the result as a string of base 20 digits. One way to convert is to find the remainder when\n",
    "the number is divided by 20, then divide the number by 20, and repeat the process until the\n",
    "number is 0. The remainders are the base 20 digits in reverse order, though you have to\n",
    "convert them into their letter equivalents."
   ]
  },
  {
   "cell_type": "code",
   "execution_count": null,
   "id": "c99ba2b3",
   "metadata": {},
   "outputs": [],
   "source": [
    "#Answer 4\n",
    "def base20():\n",
    "    num =eval(input('Please input num: '))\n",
    "    alphabet = 'ABCDEFGHIJKLMNOPQRST'\n",
    "    d = {alphabet.index(c): c for c in alphabet}\n",
    "    list = []\n",
    "    while num != 0:\n",
    "        list.append(num % 20)\n",
    "        num = num // 20\n",
    "    list.reverse()\n",
    "    for item in list:\n",
    "        print(d[item], end='')\n",
    "base20()"
   ]
  },
  {
   "cell_type": "markdown",
   "id": "1eb861f1",
   "metadata": {},
   "source": [
    "Question 5\n",
    "Write a function called verbose that, given an integer less than 1000000000000000 returns the name of\n",
    "the integer in English. As an example, verbose(123456) should return one hundred\n",
    "twenty-three thousand, four hundred fifty-six"
   ]
  },
  {
   "cell_type": "code",
   "execution_count": null,
   "id": "75103016",
   "metadata": {},
   "outputs": [],
   "source": [
    "#Answer 5\n",
    "def verbose(num):\n",
    "    d = { 0 : 'zero', 1 : 'one', 2 : 'two', 3 : 'three', 4 : 'four', 5 : 'five',\n",
    "          6 : 'six', 7 : 'seven', 8 : 'eight', 9 : 'nine', 10 : 'ten',\n",
    "          11 : 'eleven', 12 : 'twelve', 13 : 'thirteen', 14 : 'fourteen',\n",
    "          15 : 'fifteen', 16 : 'sixteen', 17 : 'seventeen', 18 : 'eighteen',\n",
    "          19 : 'nineteen', 20 : 'twenty',\n",
    "          30 : 'thirty', 40 : 'forty', 50 : 'fifty', 60 : 'sixty',\n",
    "          70 : 'seventy', 80 : 'eighty', 90 : 'ninety' }\n",
    "    k = 1000\n",
    "    m = k * 1000\n",
    "    b = m * 1000\n",
    "    t = b * 1000\n",
    "\n",
    "    assert(0 <= num)\n",
    "\n",
    "    if (num < 20):\n",
    "        return d[num]\n",
    "\n",
    "    if (num < 100):\n",
    "        if num % 10 == 0: return d[num]\n",
    "        else: return d[num // 10 * 10] + '-' + d[num % 10]\n",
    "\n",
    "    if (num < k):\n",
    "        if num % 100 == 0: return d[num // 100] + ' hundred'\n",
    "        else: return d[num // 100] + ' hundred and ' + verbose(num % 100)\n",
    "\n",
    "    if (num < m):\n",
    "        if num % k == 0: return verbose(num // k) + ' thousand'\n",
    "        else: return verbose(num // k) + ' thousand, ' + verbose(num % k)\n",
    "\n",
    "    if (num < b):\n",
    "        if (num % m) == 0: return verbose(num // m) + ' million'\n",
    "        else: return verbose(num // m) + ' million, ' + verbose(num % m)\n",
    "\n",
    "    if (num < t):\n",
    "        if (num % b) == 0: return verbose(num // b) + ' billion'\n",
    "        else: return verbose(num // b) + ' billion, ' + verbose(num % b)\n",
    "\n",
    "    if (num % t == 0): return verbose(num // t) + ' trillion'\n",
    "    else: return verbose(num // t) + ' trillion, ' + verbose(num % t)\n"
   ]
  },
  {
   "cell_type": "code",
   "execution_count": null,
   "id": "68523fed",
   "metadata": {},
   "outputs": [],
   "source": []
  }
 ],
 "metadata": {
  "kernelspec": {
   "display_name": "Python 3",
   "language": "python",
   "name": "python3"
  },
  "language_info": {
   "codemirror_mode": {
    "name": "ipython",
    "version": 3
   },
   "file_extension": ".py",
   "mimetype": "text/x-python",
   "name": "python",
   "nbconvert_exporter": "python",
   "pygments_lexer": "ipython3",
   "version": "3.8.8"
  }
 },
 "nbformat": 4,
 "nbformat_minor": 5
}
