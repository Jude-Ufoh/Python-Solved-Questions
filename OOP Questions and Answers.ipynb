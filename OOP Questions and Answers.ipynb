{
 "cells": [
  {
   "cell_type": "markdown",
   "id": "7e0fe639",
   "metadata": {},
   "source": [
    "Question 1\n",
    "Write a class called Investment with fields called principal and interest. The constructor should set the values of those fields. There should be a method called value_after that\n",
    "returns the value of the investment after n years. The formula for this is p(1 + i)n, where p is\n",
    "the principal, and i is the interest rate. It should also use the special method __str__ so that\n",
    "printing the object will result in something like below:\n",
    "\n",
    "    Principal - $1000.00, Interest rate - 5.12%"
   ]
  },
  {
   "cell_type": "code",
   "execution_count": 1,
   "id": "c566b068",
   "metadata": {
    "collapsed": true
   },
   "outputs": [
    {
     "name": "stdout",
     "output_type": "stream",
     "text": [
      "Principal -$:  1000 Interest rate:  5.12 % Interest-$:  1161.5985377279999\n"
     ]
    }
   ],
   "source": [
    "#Answer 1\n",
    "\n",
    "class Investment:\n",
    "    def __init__(self,p,i,n):\n",
    "        self.p =p\n",
    "        self.i = i\n",
    "        self.n = n\n",
    "    def value_after(self):\n",
    "        return((self.p*(1+(self.i)/100)**self.n))\n",
    "    def __str__(self):\n",
    "        print('Principal -$: ',self.p, 'Interest rate: ',self.i,'%','Interest-$: ',a.value_after())\n",
    "\n",
    "a= Investment(1000,5.12,3)\n",
    "a.__str__()"
   ]
  },
  {
   "cell_type": "markdown",
   "id": "304f53d7",
   "metadata": {},
   "source": [
    "Question 2\n",
    "Write a class called Product. The class should have fields called name, amount, and price,\n",
    "holding the product’s name, the number of items of that product in stock, and the regular\n",
    "price of the product. There should be a method get_price that receives the number of\n",
    "items to be bought and returns a the cost of buying that many items, where the regular price"
   ]
  },
  {
   "cell_type": "code",
   "execution_count": null,
   "id": "3e0dc8fb",
   "metadata": {},
   "outputs": [],
   "source": [
    "#Answer 2\n",
    "class Product:\n",
    "    def __init__(self,name,amount,price):\n",
    "        self.name = n\n",
    "        self.amount = a\n",
    "        self.price = p\n",
    "    def get_price(self):\n",
    "        return 'Regular Price: ',self.amount*self.price\n",
    "    def make_purchase(self):\n",
    "        if self.amount<10:\n",
    "            return 'Discount Price', a*p\n",
    "        if self.amount>=10 and self.amount<100:\n",
    "            return 'Discount Price: ',a*p -(int(a*p*10/100))\n",
    "        if self.amount>100:\n",
    "            return 'Discount Price: ',a*p*(0.8)\n",
    "n = input('Product name: ')\n",
    "a = eval(input('No of items bought: '))\n",
    "p = eval(input('Price of Product: '))\n",
    "c= Product(n,a,p)\n",
    "print(c.get_price())\n",
    "print(c.make_purchase())"
   ]
  },
  {
   "cell_type": "markdown",
   "id": "0cdf5d49",
   "metadata": {},
   "source": [
    "Question 3\n",
    "Write a class called Password_manager. The class should have a list called old_passwords\n",
    "that holds all of the user’s past passwords. The last item of the list is the user’s current password. There should be a method called get_password that returns the current password\n",
    "and a method called set_password that sets the user’s password. The set_password\n",
    "method should only change the password if the attempted password is different from all\n",
    "the user’s past passwords. Finally, create a method called is_correct that receives a string\n",
    "and returns a boolean True or False depending on whether the string is equal to the current\n",
    "password or not."
   ]
  },
  {
   "cell_type": "code",
   "execution_count": null,
   "id": "0019103a",
   "metadata": {},
   "outputs": [],
   "source": [
    "#Answer 3\n",
    "class Password_manager(object):\n",
    "    def __init__(self,old_passwords,your_password):\n",
    "        self.old_passwords =old_passwords\n",
    "        self.your_password =your_password\n",
    "    def get_password(self):\n",
    "        print(old_password[-1])\n",
    "    def set_password(self):\n",
    "        print('wrong password' )\n",
    "        t=input('Should we make it the new password? ')\n",
    "        if t=='yes':\n",
    "            self.old_passwords.append(self.your_password)\n",
    "        else:\n",
    "            print()\n",
    "\n",
    "\n",
    "    def is_correct(self):\n",
    "        if self.your_password in self.old_passwords:\n",
    "            return True\n",
    "        else:\n",
    "            return 'Your password is wrong'\n",
    "old_password=['abc','cdf','yuh','ufoh']\n",
    "your_password = input('Enter a new password: ')\n",
    "\n",
    "a = Password_manager(old_password,your_password)\n",
    "# print(a.is_correct())\n",
    "if your_password in old_password:\n",
    "    print('correct! You are logged in')\n",
    "else:\n",
    "    a.set_password()\n",
    "\n",
    "print(a.old_passwords)\n"
   ]
  },
  {
   "cell_type": "markdown",
   "id": "16ad3436",
   "metadata": {},
   "source": [
    "Question 4\n",
    "Write a class called Time whose only field is a time in seconds. It should have a method called\n",
    "convert_to_minutes that returns a string of minutes and seconds formatted as in the following example: if seconds is 230, the method should return '5:50'. It should also have\n",
    "a method called convert_to_hours that returns a string of hours, minutes, and seconds\n",
    "formatted analogously to the previous method.\n"
   ]
  },
  {
   "cell_type": "code",
   "execution_count": null,
   "id": "1d3aff35",
   "metadata": {},
   "outputs": [],
   "source": [
    "#Answer 4\n",
    "class Time:\n",
    "    def __init__(self,time):\n",
    "        self.time= time\n",
    "    def convert_to_minutes(self):\n",
    "        x=self.time//60\n",
    "        y=self.time%60\n",
    "        return f'{x}:{y}'\n",
    "    def convert_to_hours(self):\n",
    "        x1=self.time//3600\n",
    "        y1=(self.time%3600)//60\n",
    "        z =(self.time%3600)%60\n",
    "        return f'{x1}:{y1}:{z}'\n",
    "Time(230)\n",
    "print(Time(230).convert_to_minutes())\n"
   ]
  },
  {
   "cell_type": "markdown",
   "id": "a68b50ee",
   "metadata": {},
   "source": [
    "Question 5\n",
    "Write a class called Wordplay. It should have a field that holds a list of words. The user\n",
    "of the class should pass the list of words they want to use to the class. There should be the\n",
    "following methods:\n",
    "    \n",
    "• words_with_length(length) — returns a list of all the words of length length\n",
    "• starts_with(s) — returns a list of all the words that start with s\n",
    "• ends_with(s) — returns a list of all the words that end with s\n",
    "• palindromes() — returns a list of all the palindromes in the list\n",
    "• only(L) — returns a list of the words that contain only those letters in L\n",
    "• avoids(L) — returns a list of the words that contain none of the letters in L"
   ]
  },
  {
   "cell_type": "code",
   "execution_count": null,
   "id": "b75aa424",
   "metadata": {},
   "outputs": [],
   "source": [
    "#Answer 5\n",
    "class Wordplay:\n",
    "    def __init__(self,word):\n",
    "        self.word = word\n",
    "    def words_with_length(self):\n",
    "        return ['{}:{}'.format(w,len(w)) for w in b]\n",
    "    def starts_with(self,alp):\n",
    "        L = [w for w in b if w[0] == alp]\n",
    "        if L == []:\n",
    "            return 'None'\n",
    "        else:\n",
    "            return L\n",
    "    def end_with(self,alp):\n",
    "        L =[w for w in b if w[-1]==alp]\n",
    "        if L==[]:\n",
    "            return 'None'\n",
    "        else:\n",
    "            return L\n",
    "\n",
    "    def palindromes(self):\n",
    "        return [w for w in b if w[:]==w[: : -1]]\n",
    "    def only(self):\n",
    "        L=input('enter the letters in the list: ')\n",
    "        L=list(L)\n",
    "        return [w for w in b if all(elem in L for elem in list(w))]\n",
    "    def avoids(self):\n",
    "        L = input('words that contain: ')\n",
    "        L = list(L)\n",
    "        return [w for w in b if (set(list(w)).isdisjoint(set(L)))==True]\n",
    "s= open('wordplay1.txt').read()\n",
    "a = s.lower()\n",
    "b= a.split()\n",
    "c= Wordplay(b)\n",
    "\n",
    "print(c.words_with_length())\n",
    "print(c.end_with('z'))\n",
    "print(c.starts_with('z'))\n",
    "print(c.palindromes())\n",
    "print(c.only())\n",
    "print(c.avoids())\n"
   ]
  },
  {
   "cell_type": "markdown",
   "id": "695b3422",
   "metadata": {},
   "source": [
    "Question 6\n",
    "Write a class called Converter. The user will pass a length and a unit when declaring an\n",
    "object from the class—for example, c = Converter(9,'inches'). The possible units are\n",
    "inches, feet, yards, miles, kilometers, meters, centimeters, and millimeters. For each of these\n",
    "units there should be a method that returns the length converted into those units. For example, using the Converter object created above, the user could call c.feet() and should get\n",
    "0.75 as the result.\n"
   ]
  },
  {
   "cell_type": "code",
   "execution_count": null,
   "id": "0581e908",
   "metadata": {},
   "outputs": [],
   "source": [
    "#Answer 6\n",
    "class Converter(object):\n",
    "\n",
    "    def __init__(self,num,unit):\n",
    "        self.num = num\n",
    "        self.unit = unit\n",
    "\n",
    "    def feet(self):\n",
    "        L1=['inches','feet','yards','miles','kilometers','meters',\n",
    "            'centemeters','millimeters']\n",
    "        L2=[self.num/12,self.num,self.num*3,self.num*5280,self.num*3280.84,\n",
    "            self.num*3.28084,self.num/0.0328084,self.num/0.00328084]\n",
    "        if self.unit.lower() in L1:\n",
    "            return L2[L1.index(self.unit.lower())]\n",
    "        else:\n",
    "            return 'please check your unit and retype it'\n",
    "    def inches(self):\n",
    "        L1 = ['inches', 'feet', 'yards', 'miles', 'kilometers', 'meters',\n",
    "              'centemeters', 'millimeters']\n",
    "        L2 = [self.num, self.num*12, self.num * 36, self.num * 63360, self.num * 39370,\n",
    "              self.num * 39.37, self.num / 0.3937, self.num / 0.03937]\n",
    "        if self.unit.lower() in L1:\n",
    "            return str(L2[L1.index(self.unit.lower())])+' inches'\n",
    "        else:\n",
    "            return 'please check your unit and retype it'\n",
    "\n",
    "c= Converter(9,'feet')\n",
    "print(c.inches())\n"
   ]
  }
 ],
 "metadata": {
  "kernelspec": {
   "display_name": "Python 3",
   "language": "python",
   "name": "python3"
  }
 },
 "nbformat": 4,
 "nbformat_minor": 5
}
